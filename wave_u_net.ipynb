{
  "nbformat": 4,
  "nbformat_minor": 0,
  "metadata": {
    "colab": {
      "name": "wave-u-net.ipynb",
      "version": "0.3.2",
      "provenance": [],
      "collapsed_sections": []
    },
    "kernelspec": {
      "name": "python3",
      "display_name": "Python 3"
    }
  },
  "cells": [
    {
      "cell_type": "code",
      "metadata": {
        "id": "ETNJRmmX3QbN",
        "colab_type": "code",
        "colab": {
          "base_uri": "https://localhost:8080/",
          "height": 122
        },
        "outputId": "d36d4071-d9d3-4c94-ccc1-249665e196bd"
      },
      "source": [
        "from google.colab import drive\n",
        "drive.mount('/content/drive')"
      ],
      "execution_count": 5,
      "outputs": [
        {
          "output_type": "stream",
          "text": [
            "Go to this URL in a browser: https://accounts.google.com/o/oauth2/auth?client_id=947318989803-6bn6qk8qdgf4n4g3pfee6491hc0brc4i.apps.googleusercontent.com&redirect_uri=urn%3Aietf%3Awg%3Aoauth%3A2.0%3Aoob&scope=email%20https%3A%2F%2Fwww.googleapis.com%2Fauth%2Fdocs.test%20https%3A%2F%2Fwww.googleapis.com%2Fauth%2Fdrive%20https%3A%2F%2Fwww.googleapis.com%2Fauth%2Fdrive.photos.readonly%20https%3A%2F%2Fwww.googleapis.com%2Fauth%2Fpeopleapi.readonly&response_type=code\n",
            "\n",
            "Enter your authorization code:\n",
            "··········\n",
            "Mounted at /content/drive\n"
          ],
          "name": "stdout"
        }
      ]
    },
    {
      "cell_type": "code",
      "metadata": {
        "id": "d9ah6M712rru",
        "colab_type": "code",
        "colab": {}
      },
      "source": [
        "\n",
        "#coding:utf-8\n",
        "import librosa\n",
        "import matplotlib.pyplot as plt\n",
        "import numpy as np\n",
        "from pydub import AudioSegment\n",
        "\n",
        "sound = AudioSegment.from_wav(\"/content/drive/My Drive/論文/python/ec3a44f8.wav\")\n",
        "sound = sound.set_channels(1)\n",
        "sound.export(\"/content/ec3a44f8_c1.wav\", format=\"wav\")\n",
        "\n",
        "# librosaでは短時間波形分析をメソッド一発で実行可能\n",
        "# y, sr = librosa.load(\"/content/drive/My Drive/論文/python/b9ea68ec.wav\", sr=8192)\n",
        "y, sr = librosa.load(\"/content/ec3a44f8_c1.wav\", sr=22050)\n",
        "# y, sr = librosa.load(librosa.util.example_audio_file(), sr=22050)\n"
      ],
      "execution_count": 0,
      "outputs": []
    },
    {
      "cell_type": "code",
      "metadata": {
        "id": "AzHEk9lX201d",
        "colab_type": "code",
        "colab": {
          "base_uri": "https://localhost:8080/",
          "height": 68
        },
        "outputId": "9dff1cfd-bec7-4dd1-b402-9fe6d64c234e"
      },
      "source": [
        "y, sr"
      ],
      "execution_count": 25,
      "outputs": [
        {
          "output_type": "execute_result",
          "data": {
            "text/plain": [
              "(array([-3.67742687e-05, -5.04216150e-05, -1.60368327e-05, ...,\n",
              "         6.69810879e-06, -1.42491035e-05,  2.60341585e-05], dtype=float32),\n",
              " 22050)"
            ]
          },
          "metadata": {
            "tags": []
          },
          "execution_count": 25
        }
      ]
    },
    {
      "cell_type": "code",
      "metadata": {
        "id": "UmtCOf0O2-x2",
        "colab_type": "code",
        "colab": {}
      },
      "source": [
        "f = wave.open(\"/content/drive/My Drive/論文/python/ec3a44f8.wav\", \"rb\")"
      ],
      "execution_count": 0,
      "outputs": []
    },
    {
      "cell_type": "code",
      "metadata": {
        "id": "b-FUXbtz3EVj",
        "colab_type": "code",
        "colab": {
          "base_uri": "https://localhost:8080/",
          "height": 275
        },
        "outputId": "b696ac41-008c-4372-90df-7542f6771a73"
      },
      "source": [
        "f.__dict__"
      ],
      "execution_count": 16,
      "outputs": [
        {
          "output_type": "execute_result",
          "data": {
            "text/plain": [
              "{'_compname': 'not compressed',\n",
              " '_comptype': 'NONE',\n",
              " '_convert': None,\n",
              " '_data_chunk': <chunk.Chunk at 0x7fdfca0aa390>,\n",
              " '_data_seek_needed': 0,\n",
              " '_file': <chunk.Chunk at 0x7fdfc9d8cc18>,\n",
              " '_fmt_chunk_read': 1,\n",
              " '_framerate': 44100,\n",
              " '_framesize': 2,\n",
              " '_i_opened_the_file': <_io.BufferedReader name='/content/drive/My Drive/論文/python/ec3a44f8.wav'>,\n",
              " '_nchannels': 1,\n",
              " '_nframes': 1280664,\n",
              " '_sampwidth': 2,\n",
              " '_soundpos': 0}"
            ]
          },
          "metadata": {
            "tags": []
          },
          "execution_count": 16
        }
      ]
    },
    {
      "cell_type": "code",
      "metadata": {
        "id": "sL5kxaJz6pri",
        "colab_type": "code",
        "colab": {
          "base_uri": "https://localhost:8080/",
          "height": 34
        },
        "outputId": "fd87e823-4942-4ccd-d322-c196cf386075"
      },
      "source": [
        ""
      ],
      "execution_count": 23,
      "outputs": [
        {
          "output_type": "execute_result",
          "data": {
            "text/plain": [
              "<_io.BufferedRandom name='/content/ec3a44f8_c1.wav'>"
            ]
          },
          "metadata": {
            "tags": []
          },
          "execution_count": 23
        }
      ]
    },
    {
      "cell_type": "code",
      "metadata": {
        "id": "ZBKAxBT4615X",
        "colab_type": "code",
        "colab": {}
      },
      "source": [
        ""
      ],
      "execution_count": 0,
      "outputs": []
    }
  ]
}
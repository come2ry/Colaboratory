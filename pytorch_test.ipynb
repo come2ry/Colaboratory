{
  "nbformat": 4,
  "nbformat_minor": 0,
  "metadata": {
    "colab": {
      "name": "pytorch_test",
      "version": "0.3.2",
      "provenance": [],
      "collapsed_sections": [],
      "machine_shape": "hm"
    },
    "kernelspec": {
      "name": "python3",
      "display_name": "Python 3"
    },
    "accelerator": "GPU"
  },
  "cells": [
    {
      "cell_type": "code",
      "metadata": {
        "id": "Puq7OBd1zuq2",
        "colab_type": "code",
        "outputId": "2ab86555-110c-42ce-be71-53b934ee38f7",
        "colab": {
          "base_uri": "https://localhost:8080/",
          "height": 34
        }
      },
      "source": [
        "from google.colab import drive\n",
        "drive.mount('/content/drive')"
      ],
      "execution_count": 1,
      "outputs": [
        {
          "output_type": "stream",
          "text": [
            "Drive already mounted at /content/drive; to attempt to forcibly remount, call drive.mount(\"/content/drive\", force_remount=True).\n"
          ],
          "name": "stdout"
        }
      ]
    },
    {
      "cell_type": "code",
      "metadata": {
        "id": "cZFs809ARL9-",
        "colab_type": "code",
        "colab": {}
      },
      "source": [
        "#coding:utf-8\n",
        "import librosa\n",
        "import librosa.display\n",
        "import matplotlib.pyplot as plt\n",
        "import numpy as np\n",
        "import os\n"
      ],
      "execution_count": 0,
      "outputs": []
    },
    {
      "cell_type": "code",
      "metadata": {
        "id": "c_oVU8PYzv1y",
        "colab_type": "code",
        "colab": {}
      },
      "source": [
        "\n",
        "# DSD100のデータは元から44.1kHzのみなので今回は指定なし\n",
        "# SAMPLING_RATE = 44100 \n",
        "FRAME_SIZE = 2048\n",
        "# over_wrap = 50%\n",
        "HOP_SIZE = 1024\n",
        "\n",
        "\n",
        "def extract_feature_by_stft(file_path, n_fft=None, hop_length=None):\n",
        "    npy_file_path = file_path.replace('.wav', '_stft')\n",
        "    if os.path.exists(npy_file_path):\n",
        "        return np.load(npy_file_path)\n",
        "    y, sr = librosa.load(file_path)\n",
        "\n",
        "    args = {}\n",
        "    args['y'] = y\n",
        "    if n_fft is not None:\n",
        "    args['n_fft'] = n_fft\n",
        "    if hop_length is not None:\n",
        "    args['hop_length'] = hop_length\n",
        "\n",
        "    D = np.abs(librosa.stft(**args))\n",
        "\n",
        "    np.save(npy_file_path, D)\n",
        "    return D\n",
        "\n",
        "\n",
        "root_dir_path = \"/content/drive/My Drive/Paper/MMDense-Net/\"\n",
        "dir_path_list = [\"051 - AM Contra - Heart Peripheral/\"]\n",
        "\n",
        "for dir_path in dir_path_list:\n",
        "    mixture_file_path = root_dir_path + \"Mixtures/\" + dir_path + \"mixture.wav\"\n",
        "    source_file_path_dict = {}\n",
        "    for i in range(4):\n",
        "        key = ['bass', 'drums', 'other', 'vocals'][i]\n",
        "        path = root_dir_path + \"Sources/\" + dir_path + key + \".wav\"\n",
        "        source_file_path_dict[key] = path\n",
        "    # mix\n",
        "    Mix_D = extract_feature_by_stft(mixture_file_path, n_fft=FRAME_SIZE, hop_length=HOP_SIZE)\n",
        "\n",
        "    # sources\n",
        "    Sources_D_dict = dict(\n",
        "        [[key, extract_feature_by_stft(value)] for key, value in  source_file_path_dict.items()]\n",
        "    )  "
      ],
      "execution_count": 0,
      "outputs": []
    },
    {
      "cell_type": "code",
      "metadata": {
        "id": "lxao6YkUROJv",
        "colab_type": "code",
        "colab": {}
      },
      "source": [
        "import torch\n",
        "import torchvision\n",
        "from torch import nn\n",
        "from torch.autograd import Variable\n",
        "from torch.utils.data import DataLoader\n",
        "from torchvision import transforms\n",
        "from torchvision.utils import save_image\n",
        "from torchvision.datasets import MNIST\n",
        "import os\n"
      ],
      "execution_count": 0,
      "outputs": []
    },
    {
      "cell_type": "code",
      "metadata": {
        "id": "CKXdzU6wznMO",
        "colab_type": "code",
        "outputId": "40c1a868-44bb-4f97-f687-89400b07bb79",
        "colab": {
          "base_uri": "https://localhost:8080/",
          "height": 399
        }
      },
      "source": [
        "\n",
        "import torch\n",
        "import torchvision\n",
        "from torch import nn\n",
        "from torch.autograd import Variable\n",
        "from torch.utils.data import DataLoader\n",
        "from torchvision import transforms\n",
        "from torchvision.utils import save_image\n",
        "from torchvision.datasets import MNIST\n",
        "import os\n",
        "\n",
        "if not os.path.exists('./dc_img_only_data'):\n",
        "    os.mkdir('./dc_img_only_data')\n",
        "\n",
        "\n",
        "def to_img(x):\n",
        "    x = 0.5 * (x + 1)\n",
        "    x = x.clamp(0, 1)\n",
        "    x = x.view(x.size(0), 1, 28, 28)\n",
        "    return x\n",
        "\n",
        "\n",
        "num_epochs = 100\n",
        "batch_size = 128\n",
        "learning_rate = 1e-3\n",
        "\n",
        "img_transform = transforms.Compose([\n",
        "    transforms.ToTensor(),\n",
        "#     transforms.Normalize((0.5, 0.5, 0.5), (0.5, 0.5, 0.5))\n",
        "    transforms.Normalize((0.5,), (0.5,))\n",
        "])\n",
        "\n",
        "dataset = MNIST('./data', transform=img_transform)\n",
        "dataloader = DataLoader(dataset.data, batch_size=batch_size, shuffle=True)\n",
        "\n",
        "\n",
        "class autoencoder(nn.Module):\n",
        "    def __init__(self):\n",
        "        super(autoencoder, self).__init__()\n",
        "        self.encoder = nn.Sequential(\n",
        "            nn.Conv2d(1, 16, 3, stride=3, padding=1),  # b, 16, 10, 10\n",
        "            nn.ReLU(True),\n",
        "            nn.MaxPool2d(2, stride=2),  # b, 16, 5, 5\n",
        "            nn.Conv2d(16, 8, 3, stride=2, padding=1),  # b, 8, 3, 3\n",
        "            nn.ReLU(True),\n",
        "            nn.MaxPool2d(2, stride=1)  # b, 8, 2, 2\n",
        "        )\n",
        "        self.decoder = nn.Sequential(\n",
        "            nn.ConvTranspose2d(8, 16, 3, stride=2),  # b, 16, 5, 5\n",
        "            nn.ReLU(True),\n",
        "            nn.ConvTranspose2d(16, 8, 5, stride=3, padding=1),  # b, 8, 15, 15\n",
        "            nn.ReLU(True),\n",
        "            nn.ConvTranspose2d(8, 1, 2, stride=2, padding=1),  # b, 1, 28, 28\n",
        "            nn.Tanh()\n",
        "        )\n",
        "\n",
        "    def forward(self, x):\n",
        "        x = self.encoder(x)\n",
        "        x = self.decoder(x)\n",
        "        return x\n",
        "\n",
        "\n",
        "model = autoencoder().cuda()\n",
        "criterion = nn.MSELoss()\n",
        "optimizer = torch.optim.Adam(model.parameters(), lr=learning_rate,\n",
        "                             weight_decay=1e-5)\n",
        "\n",
        "for epoch in range(num_epochs):\n",
        "    for data in dataloader:\n",
        "        img, _ = data\n",
        "        img = Variable(img).cuda()\n",
        "        # ===================forward=====================\n",
        "        output = model(img)\n",
        "        loss = criterion(output, img)\n",
        "        # ===================backward====================\n",
        "        optimizer.zero_grad()\n",
        "        loss.backward()\n",
        "        optimizer.step()\n",
        "    # ===================log========================\n",
        "    print('epoch [{}/{}], loss:{:.4f}'.format(epoch+1, num_epochs, loss.data))\n",
        "    if epoch % 10 == 0:\n",
        "        pic = to_img(output.cpu().data)\n",
        "        save_image(pic, './dc_img_only_data/image_{}.png'.format(epoch))\n",
        "\n",
        "torch.save(model.state_dict(), './conv_autoencoder_only_data.pth')\n",
        "# param = torch.load('model.pth')\n",
        "# model = autoencoder() #読み込む前にクラス宣言が必要\n",
        "# model.load_state_dict(param)"
      ],
      "execution_count": 31,
      "outputs": [
        {
          "output_type": "error",
          "ename": "RuntimeError",
          "evalue": "ignored",
          "traceback": [
            "\u001b[0;31m---------------------------------------------------------------------------\u001b[0m",
            "\u001b[0;31mRuntimeError\u001b[0m                              Traceback (most recent call last)",
            "\u001b[0;32m<ipython-input-31-f3022410097e>\u001b[0m in \u001b[0;36m<module>\u001b[0;34m()\u001b[0m\n\u001b[1;32m     71\u001b[0m         \u001b[0mimg\u001b[0m \u001b[0;34m=\u001b[0m \u001b[0mVariable\u001b[0m\u001b[0;34m(\u001b[0m\u001b[0mimg\u001b[0m\u001b[0;34m)\u001b[0m\u001b[0;34m.\u001b[0m\u001b[0mcuda\u001b[0m\u001b[0;34m(\u001b[0m\u001b[0;34m)\u001b[0m\u001b[0;34m\u001b[0m\u001b[0;34m\u001b[0m\u001b[0m\n\u001b[1;32m     72\u001b[0m         \u001b[0;31m# ===================forward=====================\u001b[0m\u001b[0;34m\u001b[0m\u001b[0;34m\u001b[0m\u001b[0;34m\u001b[0m\u001b[0m\n\u001b[0;32m---> 73\u001b[0;31m         \u001b[0moutput\u001b[0m \u001b[0;34m=\u001b[0m \u001b[0mmodel\u001b[0m\u001b[0;34m(\u001b[0m\u001b[0mimg\u001b[0m\u001b[0;34m)\u001b[0m\u001b[0;34m\u001b[0m\u001b[0;34m\u001b[0m\u001b[0m\n\u001b[0m\u001b[1;32m     74\u001b[0m         \u001b[0mloss\u001b[0m \u001b[0;34m=\u001b[0m \u001b[0mcriterion\u001b[0m\u001b[0;34m(\u001b[0m\u001b[0moutput\u001b[0m\u001b[0;34m,\u001b[0m \u001b[0mimg\u001b[0m\u001b[0;34m)\u001b[0m\u001b[0;34m\u001b[0m\u001b[0;34m\u001b[0m\u001b[0m\n\u001b[1;32m     75\u001b[0m         \u001b[0;31m# ===================backward====================\u001b[0m\u001b[0;34m\u001b[0m\u001b[0;34m\u001b[0m\u001b[0;34m\u001b[0m\u001b[0m\n",
            "\u001b[0;32m/usr/local/lib/python3.6/dist-packages/torch/nn/modules/module.py\u001b[0m in \u001b[0;36m__call__\u001b[0;34m(self, *input, **kwargs)\u001b[0m\n\u001b[1;32m    491\u001b[0m             \u001b[0mresult\u001b[0m \u001b[0;34m=\u001b[0m \u001b[0mself\u001b[0m\u001b[0;34m.\u001b[0m\u001b[0m_slow_forward\u001b[0m\u001b[0;34m(\u001b[0m\u001b[0;34m*\u001b[0m\u001b[0minput\u001b[0m\u001b[0;34m,\u001b[0m \u001b[0;34m**\u001b[0m\u001b[0mkwargs\u001b[0m\u001b[0;34m)\u001b[0m\u001b[0;34m\u001b[0m\u001b[0;34m\u001b[0m\u001b[0m\n\u001b[1;32m    492\u001b[0m         \u001b[0;32melse\u001b[0m\u001b[0;34m:\u001b[0m\u001b[0;34m\u001b[0m\u001b[0;34m\u001b[0m\u001b[0m\n\u001b[0;32m--> 493\u001b[0;31m             \u001b[0mresult\u001b[0m \u001b[0;34m=\u001b[0m \u001b[0mself\u001b[0m\u001b[0;34m.\u001b[0m\u001b[0mforward\u001b[0m\u001b[0;34m(\u001b[0m\u001b[0;34m*\u001b[0m\u001b[0minput\u001b[0m\u001b[0;34m,\u001b[0m \u001b[0;34m**\u001b[0m\u001b[0mkwargs\u001b[0m\u001b[0;34m)\u001b[0m\u001b[0;34m\u001b[0m\u001b[0;34m\u001b[0m\u001b[0m\n\u001b[0m\u001b[1;32m    494\u001b[0m         \u001b[0;32mfor\u001b[0m \u001b[0mhook\u001b[0m \u001b[0;32min\u001b[0m \u001b[0mself\u001b[0m\u001b[0;34m.\u001b[0m\u001b[0m_forward_hooks\u001b[0m\u001b[0;34m.\u001b[0m\u001b[0mvalues\u001b[0m\u001b[0;34m(\u001b[0m\u001b[0;34m)\u001b[0m\u001b[0;34m:\u001b[0m\u001b[0;34m\u001b[0m\u001b[0;34m\u001b[0m\u001b[0m\n\u001b[1;32m    495\u001b[0m             \u001b[0mhook_result\u001b[0m \u001b[0;34m=\u001b[0m \u001b[0mhook\u001b[0m\u001b[0;34m(\u001b[0m\u001b[0mself\u001b[0m\u001b[0;34m,\u001b[0m \u001b[0minput\u001b[0m\u001b[0;34m,\u001b[0m \u001b[0mresult\u001b[0m\u001b[0;34m)\u001b[0m\u001b[0;34m\u001b[0m\u001b[0;34m\u001b[0m\u001b[0m\n",
            "\u001b[0;32m<ipython-input-31-f3022410097e>\u001b[0m in \u001b[0;36mforward\u001b[0;34m(self, x)\u001b[0m\n\u001b[1;32m     56\u001b[0m \u001b[0;34m\u001b[0m\u001b[0m\n\u001b[1;32m     57\u001b[0m     \u001b[0;32mdef\u001b[0m \u001b[0mforward\u001b[0m\u001b[0;34m(\u001b[0m\u001b[0mself\u001b[0m\u001b[0;34m,\u001b[0m \u001b[0mx\u001b[0m\u001b[0;34m)\u001b[0m\u001b[0;34m:\u001b[0m\u001b[0;34m\u001b[0m\u001b[0;34m\u001b[0m\u001b[0m\n\u001b[0;32m---> 58\u001b[0;31m         \u001b[0mx\u001b[0m \u001b[0;34m=\u001b[0m \u001b[0mself\u001b[0m\u001b[0;34m.\u001b[0m\u001b[0mencoder\u001b[0m\u001b[0;34m(\u001b[0m\u001b[0mx\u001b[0m\u001b[0;34m)\u001b[0m\u001b[0;34m\u001b[0m\u001b[0;34m\u001b[0m\u001b[0m\n\u001b[0m\u001b[1;32m     59\u001b[0m         \u001b[0mx\u001b[0m \u001b[0;34m=\u001b[0m \u001b[0mself\u001b[0m\u001b[0;34m.\u001b[0m\u001b[0mdecoder\u001b[0m\u001b[0;34m(\u001b[0m\u001b[0mx\u001b[0m\u001b[0;34m)\u001b[0m\u001b[0;34m\u001b[0m\u001b[0;34m\u001b[0m\u001b[0m\n\u001b[1;32m     60\u001b[0m         \u001b[0;32mreturn\u001b[0m \u001b[0mx\u001b[0m\u001b[0;34m\u001b[0m\u001b[0;34m\u001b[0m\u001b[0m\n",
            "\u001b[0;32m/usr/local/lib/python3.6/dist-packages/torch/nn/modules/module.py\u001b[0m in \u001b[0;36m__call__\u001b[0;34m(self, *input, **kwargs)\u001b[0m\n\u001b[1;32m    491\u001b[0m             \u001b[0mresult\u001b[0m \u001b[0;34m=\u001b[0m \u001b[0mself\u001b[0m\u001b[0;34m.\u001b[0m\u001b[0m_slow_forward\u001b[0m\u001b[0;34m(\u001b[0m\u001b[0;34m*\u001b[0m\u001b[0minput\u001b[0m\u001b[0;34m,\u001b[0m \u001b[0;34m**\u001b[0m\u001b[0mkwargs\u001b[0m\u001b[0;34m)\u001b[0m\u001b[0;34m\u001b[0m\u001b[0;34m\u001b[0m\u001b[0m\n\u001b[1;32m    492\u001b[0m         \u001b[0;32melse\u001b[0m\u001b[0;34m:\u001b[0m\u001b[0;34m\u001b[0m\u001b[0;34m\u001b[0m\u001b[0m\n\u001b[0;32m--> 493\u001b[0;31m             \u001b[0mresult\u001b[0m \u001b[0;34m=\u001b[0m \u001b[0mself\u001b[0m\u001b[0;34m.\u001b[0m\u001b[0mforward\u001b[0m\u001b[0;34m(\u001b[0m\u001b[0;34m*\u001b[0m\u001b[0minput\u001b[0m\u001b[0;34m,\u001b[0m \u001b[0;34m**\u001b[0m\u001b[0mkwargs\u001b[0m\u001b[0;34m)\u001b[0m\u001b[0;34m\u001b[0m\u001b[0;34m\u001b[0m\u001b[0m\n\u001b[0m\u001b[1;32m    494\u001b[0m         \u001b[0;32mfor\u001b[0m \u001b[0mhook\u001b[0m \u001b[0;32min\u001b[0m \u001b[0mself\u001b[0m\u001b[0;34m.\u001b[0m\u001b[0m_forward_hooks\u001b[0m\u001b[0;34m.\u001b[0m\u001b[0mvalues\u001b[0m\u001b[0;34m(\u001b[0m\u001b[0;34m)\u001b[0m\u001b[0;34m:\u001b[0m\u001b[0;34m\u001b[0m\u001b[0;34m\u001b[0m\u001b[0m\n\u001b[1;32m    495\u001b[0m             \u001b[0mhook_result\u001b[0m \u001b[0;34m=\u001b[0m \u001b[0mhook\u001b[0m\u001b[0;34m(\u001b[0m\u001b[0mself\u001b[0m\u001b[0;34m,\u001b[0m \u001b[0minput\u001b[0m\u001b[0;34m,\u001b[0m \u001b[0mresult\u001b[0m\u001b[0;34m)\u001b[0m\u001b[0;34m\u001b[0m\u001b[0;34m\u001b[0m\u001b[0m\n",
            "\u001b[0;32m/usr/local/lib/python3.6/dist-packages/torch/nn/modules/container.py\u001b[0m in \u001b[0;36mforward\u001b[0;34m(self, input)\u001b[0m\n\u001b[1;32m     90\u001b[0m     \u001b[0;32mdef\u001b[0m \u001b[0mforward\u001b[0m\u001b[0;34m(\u001b[0m\u001b[0mself\u001b[0m\u001b[0;34m,\u001b[0m \u001b[0minput\u001b[0m\u001b[0;34m)\u001b[0m\u001b[0;34m:\u001b[0m\u001b[0;34m\u001b[0m\u001b[0;34m\u001b[0m\u001b[0m\n\u001b[1;32m     91\u001b[0m         \u001b[0;32mfor\u001b[0m \u001b[0mmodule\u001b[0m \u001b[0;32min\u001b[0m \u001b[0mself\u001b[0m\u001b[0;34m.\u001b[0m\u001b[0m_modules\u001b[0m\u001b[0;34m.\u001b[0m\u001b[0mvalues\u001b[0m\u001b[0;34m(\u001b[0m\u001b[0;34m)\u001b[0m\u001b[0;34m:\u001b[0m\u001b[0;34m\u001b[0m\u001b[0;34m\u001b[0m\u001b[0m\n\u001b[0;32m---> 92\u001b[0;31m             \u001b[0minput\u001b[0m \u001b[0;34m=\u001b[0m \u001b[0mmodule\u001b[0m\u001b[0;34m(\u001b[0m\u001b[0minput\u001b[0m\u001b[0;34m)\u001b[0m\u001b[0;34m\u001b[0m\u001b[0;34m\u001b[0m\u001b[0m\n\u001b[0m\u001b[1;32m     93\u001b[0m         \u001b[0;32mreturn\u001b[0m \u001b[0minput\u001b[0m\u001b[0;34m\u001b[0m\u001b[0;34m\u001b[0m\u001b[0m\n\u001b[1;32m     94\u001b[0m \u001b[0;34m\u001b[0m\u001b[0m\n",
            "\u001b[0;32m/usr/local/lib/python3.6/dist-packages/torch/nn/modules/module.py\u001b[0m in \u001b[0;36m__call__\u001b[0;34m(self, *input, **kwargs)\u001b[0m\n\u001b[1;32m    491\u001b[0m             \u001b[0mresult\u001b[0m \u001b[0;34m=\u001b[0m \u001b[0mself\u001b[0m\u001b[0;34m.\u001b[0m\u001b[0m_slow_forward\u001b[0m\u001b[0;34m(\u001b[0m\u001b[0;34m*\u001b[0m\u001b[0minput\u001b[0m\u001b[0;34m,\u001b[0m \u001b[0;34m**\u001b[0m\u001b[0mkwargs\u001b[0m\u001b[0;34m)\u001b[0m\u001b[0;34m\u001b[0m\u001b[0;34m\u001b[0m\u001b[0m\n\u001b[1;32m    492\u001b[0m         \u001b[0;32melse\u001b[0m\u001b[0;34m:\u001b[0m\u001b[0;34m\u001b[0m\u001b[0;34m\u001b[0m\u001b[0m\n\u001b[0;32m--> 493\u001b[0;31m             \u001b[0mresult\u001b[0m \u001b[0;34m=\u001b[0m \u001b[0mself\u001b[0m\u001b[0;34m.\u001b[0m\u001b[0mforward\u001b[0m\u001b[0;34m(\u001b[0m\u001b[0;34m*\u001b[0m\u001b[0minput\u001b[0m\u001b[0;34m,\u001b[0m \u001b[0;34m**\u001b[0m\u001b[0mkwargs\u001b[0m\u001b[0;34m)\u001b[0m\u001b[0;34m\u001b[0m\u001b[0;34m\u001b[0m\u001b[0m\n\u001b[0m\u001b[1;32m    494\u001b[0m         \u001b[0;32mfor\u001b[0m \u001b[0mhook\u001b[0m \u001b[0;32min\u001b[0m \u001b[0mself\u001b[0m\u001b[0;34m.\u001b[0m\u001b[0m_forward_hooks\u001b[0m\u001b[0;34m.\u001b[0m\u001b[0mvalues\u001b[0m\u001b[0;34m(\u001b[0m\u001b[0;34m)\u001b[0m\u001b[0;34m:\u001b[0m\u001b[0;34m\u001b[0m\u001b[0;34m\u001b[0m\u001b[0m\n\u001b[1;32m    495\u001b[0m             \u001b[0mhook_result\u001b[0m \u001b[0;34m=\u001b[0m \u001b[0mhook\u001b[0m\u001b[0;34m(\u001b[0m\u001b[0mself\u001b[0m\u001b[0;34m,\u001b[0m \u001b[0minput\u001b[0m\u001b[0;34m,\u001b[0m \u001b[0mresult\u001b[0m\u001b[0;34m)\u001b[0m\u001b[0;34m\u001b[0m\u001b[0;34m\u001b[0m\u001b[0m\n",
            "\u001b[0;32m/usr/local/lib/python3.6/dist-packages/torch/nn/modules/conv.py\u001b[0m in \u001b[0;36mforward\u001b[0;34m(self, input)\u001b[0m\n\u001b[1;32m    336\u001b[0m                             _pair(0), self.dilation, self.groups)\n\u001b[1;32m    337\u001b[0m         return F.conv2d(input, self.weight, self.bias, self.stride,\n\u001b[0;32m--> 338\u001b[0;31m                         self.padding, self.dilation, self.groups)\n\u001b[0m\u001b[1;32m    339\u001b[0m \u001b[0;34m\u001b[0m\u001b[0m\n\u001b[1;32m    340\u001b[0m \u001b[0;34m\u001b[0m\u001b[0m\n",
            "\u001b[0;31mRuntimeError\u001b[0m: Expected 4-dimensional input for 4-dimensional weight 16 1 3, but got 3-dimensional input of size [128, 28, 28] instead"
          ]
        }
      ]
    },
    {
      "cell_type": "code",
      "metadata": {
        "id": "RLyaObmE0Ehk",
        "colab_type": "code",
        "colab": {}
      },
      "source": [
        "img_transform = transforms.Compose([\n",
        "    transforms.ToTensor(),\n",
        "#     transforms.Normalize((0.5, 0.5, 0.5), (0.5, 0.5, 0.5))\n",
        "    transforms.Normalize((0.5,), (0.5,))\n",
        "])\n",
        "\n",
        "dataset = MNIST('./data', transform=img_transform, download=True)"
      ],
      "execution_count": 0,
      "outputs": []
    },
    {
      "cell_type": "code",
      "metadata": {
        "id": "huXD6IyPNNkl",
        "colab_type": "code",
        "outputId": "cd7ff5b9-3c89-416f-ef8a-65832ce3e371",
        "colab": {
          "base_uri": "https://localhost:8080/",
          "height": 34
        }
      },
      "source": [
        "dataset.data.shape"
      ],
      "execution_count": 5,
      "outputs": [
        {
          "output_type": "execute_result",
          "data": {
            "text/plain": [
              "torch.Size([60000, 28, 28])"
            ]
          },
          "metadata": {
            "tags": []
          },
          "execution_count": 5
        }
      ]
    },
    {
      "cell_type": "code",
      "metadata": {
        "id": "s0N_JrdASk7x",
        "colab_type": "code",
        "colab": {}
      },
      "source": [
        "num_epochs = 100\n",
        "batch_size = 128\n",
        "learning_rate = 1e-3\n",
        "dataloader = DataLoader(dataset.data, batch_size=batch_size, shuffle=True)"
      ],
      "execution_count": 0,
      "outputs": []
    },
    {
      "cell_type": "code",
      "metadata": {
        "id": "WebpJ9dfSn-H",
        "colab_type": "code",
        "colab": {
          "base_uri": "https://localhost:8080/",
          "height": 1000
        },
        "outputId": "75a165da-a906-4112-f1cb-8f85dd9aadc0"
      },
      "source": [
        "dataloader.__dict__"
      ],
      "execution_count": 29,
      "outputs": [
        {
          "output_type": "execute_result",
          "data": {
            "text/plain": [
              "{'_DataLoader__initialized': True,\n",
              " 'batch_sampler': <torch.utils.data.sampler.BatchSampler at 0x7f5b77fd2320>,\n",
              " 'batch_size': 128,\n",
              " 'collate_fn': <function torch.utils.data._utils.collate.default_collate>,\n",
              " 'dataset': tensor([[[5.8612e-04, 1.0012e-04, 4.2933e-04,  ..., 3.4408e-04,\n",
              "           2.7148e-04, 2.7125e-04],\n",
              "          [4.4804e-04, 4.8357e-05, 3.7096e-04,  ..., 3.0921e-04,\n",
              "           2.3744e-04, 2.2167e-04],\n",
              "          [2.5109e-04, 3.3724e-05, 3.4696e-04,  ..., 3.8694e-04,\n",
              "           8.1846e-05, 1.5278e-04],\n",
              "          ...,\n",
              "          [5.2779e-06, 1.3963e-06, 1.7204e-06,  ..., 3.4277e-07,\n",
              "           4.1070e-07, 2.7675e-05],\n",
              "          [3.9800e-06, 1.4809e-06, 3.7638e-07,  ..., 5.6260e-07,\n",
              "           4.0235e-07, 2.8816e-05],\n",
              "          [3.0980e-06, 5.3938e-07, 2.4932e-07,  ..., 2.4536e-07,\n",
              "           3.0605e-07, 2.9493e-05]],\n",
              " \n",
              "         [[5.8612e-04, 1.0012e-04, 4.2933e-04,  ..., 3.4408e-04,\n",
              "           2.7148e-04, 2.7125e-04],\n",
              "          [4.4804e-04, 4.8357e-05, 3.7096e-04,  ..., 3.0921e-04,\n",
              "           2.3744e-04, 2.2167e-04],\n",
              "          [2.5109e-04, 3.3724e-05, 3.4696e-04,  ..., 3.8694e-04,\n",
              "           8.1846e-05, 1.5278e-04],\n",
              "          ...,\n",
              "          [5.2779e-06, 1.3963e-06, 1.7204e-06,  ..., 3.4277e-07,\n",
              "           4.1070e-07, 2.7675e-05],\n",
              "          [3.9800e-06, 1.4809e-06, 3.7638e-07,  ..., 5.6260e-07,\n",
              "           4.0235e-07, 2.8816e-05],\n",
              "          [3.0980e-06, 5.3938e-07, 2.4932e-07,  ..., 2.4536e-07,\n",
              "           3.0605e-07, 2.9493e-05]],\n",
              " \n",
              "         [[5.8612e-04, 1.0012e-04, 4.2933e-04,  ..., 3.4408e-04,\n",
              "           2.7148e-04, 2.7125e-04],\n",
              "          [4.4804e-04, 4.8357e-05, 3.7096e-04,  ..., 3.0921e-04,\n",
              "           2.3744e-04, 2.2167e-04],\n",
              "          [2.5109e-04, 3.3724e-05, 3.4696e-04,  ..., 3.8694e-04,\n",
              "           8.1846e-05, 1.5278e-04],\n",
              "          ...,\n",
              "          [5.2779e-06, 1.3963e-06, 1.7204e-06,  ..., 3.4277e-07,\n",
              "           4.1070e-07, 2.7675e-05],\n",
              "          [3.9800e-06, 1.4809e-06, 3.7638e-07,  ..., 5.6260e-07,\n",
              "           4.0235e-07, 2.8816e-05],\n",
              "          [3.0980e-06, 5.3938e-07, 2.4932e-07,  ..., 2.4536e-07,\n",
              "           3.0605e-07, 2.9493e-05]],\n",
              " \n",
              "         ...,\n",
              " \n",
              "         [[5.8612e-04, 1.0012e-04, 4.2933e-04,  ..., 3.4408e-04,\n",
              "           2.7148e-04, 2.7125e-04],\n",
              "          [4.4804e-04, 4.8357e-05, 3.7096e-04,  ..., 3.0921e-04,\n",
              "           2.3744e-04, 2.2167e-04],\n",
              "          [2.5109e-04, 3.3724e-05, 3.4696e-04,  ..., 3.8694e-04,\n",
              "           8.1846e-05, 1.5278e-04],\n",
              "          ...,\n",
              "          [5.2779e-06, 1.3963e-06, 1.7204e-06,  ..., 3.4277e-07,\n",
              "           4.1070e-07, 2.7675e-05],\n",
              "          [3.9800e-06, 1.4809e-06, 3.7638e-07,  ..., 5.6260e-07,\n",
              "           4.0235e-07, 2.8816e-05],\n",
              "          [3.0980e-06, 5.3938e-07, 2.4932e-07,  ..., 2.4536e-07,\n",
              "           3.0605e-07, 2.9493e-05]],\n",
              " \n",
              "         [[5.8612e-04, 1.0012e-04, 4.2933e-04,  ..., 3.4408e-04,\n",
              "           2.7148e-04, 2.7125e-04],\n",
              "          [4.4804e-04, 4.8357e-05, 3.7096e-04,  ..., 3.0921e-04,\n",
              "           2.3744e-04, 2.2167e-04],\n",
              "          [2.5109e-04, 3.3724e-05, 3.4696e-04,  ..., 3.8694e-04,\n",
              "           8.1846e-05, 1.5278e-04],\n",
              "          ...,\n",
              "          [5.2779e-06, 1.3963e-06, 1.7204e-06,  ..., 3.4277e-07,\n",
              "           4.1070e-07, 2.7675e-05],\n",
              "          [3.9800e-06, 1.4809e-06, 3.7638e-07,  ..., 5.6260e-07,\n",
              "           4.0235e-07, 2.8816e-05],\n",
              "          [3.0980e-06, 5.3938e-07, 2.4932e-07,  ..., 2.4536e-07,\n",
              "           3.0605e-07, 2.9493e-05]],\n",
              " \n",
              "         [[5.8612e-04, 1.0012e-04, 4.2933e-04,  ..., 3.4408e-04,\n",
              "           2.7148e-04, 2.7125e-04],\n",
              "          [4.4804e-04, 4.8357e-05, 3.7096e-04,  ..., 3.0921e-04,\n",
              "           2.3744e-04, 2.2167e-04],\n",
              "          [2.5109e-04, 3.3724e-05, 3.4696e-04,  ..., 3.8694e-04,\n",
              "           8.1846e-05, 1.5278e-04],\n",
              "          ...,\n",
              "          [5.2779e-06, 1.3963e-06, 1.7204e-06,  ..., 3.4277e-07,\n",
              "           4.1070e-07, 2.7675e-05],\n",
              "          [3.9800e-06, 1.4809e-06, 3.7638e-07,  ..., 5.6260e-07,\n",
              "           4.0235e-07, 2.8816e-05],\n",
              "          [3.0980e-06, 5.3938e-07, 2.4932e-07,  ..., 2.4536e-07,\n",
              "           3.0605e-07, 2.9493e-05]]]),\n",
              " 'drop_last': False,\n",
              " 'num_workers': 0,\n",
              " 'pin_memory': False,\n",
              " 'sampler': <torch.utils.data.sampler.RandomSampler at 0x7f5b77fd22e8>,\n",
              " 'timeout': 0,\n",
              " 'worker_init_fn': None}"
            ]
          },
          "metadata": {
            "tags": []
          },
          "execution_count": 29
        }
      ]
    },
    {
      "cell_type": "code",
      "metadata": {
        "id": "vw-dZH0KTDVY",
        "colab_type": "code",
        "colab": {
          "base_uri": "https://localhost:8080/",
          "height": 1000
        },
        "outputId": "7c01eb88-7706-4443-8ad1-9b71e7218108"
      },
      "source": [
        "dataloader.__dict__"
      ],
      "execution_count": 27,
      "outputs": [
        {
          "output_type": "execute_result",
          "data": {
            "text/plain": [
              "{'_DataLoader__initialized': True,\n",
              " 'batch_sampler': <torch.utils.data.sampler.BatchSampler at 0x7f5b77fd2240>,\n",
              " 'batch_size': 128,\n",
              " 'collate_fn': <function torch.utils.data._utils.collate.default_collate>,\n",
              " 'dataset': tensor([[[5.8612e-04, 1.0012e-04, 4.2933e-04,  ..., 3.4408e-04,\n",
              "           2.7148e-04, 2.7125e-04],\n",
              "          [4.4804e-04, 4.8357e-05, 3.7096e-04,  ..., 3.0921e-04,\n",
              "           2.3744e-04, 2.2167e-04],\n",
              "          [2.5109e-04, 3.3724e-05, 3.4696e-04,  ..., 3.8694e-04,\n",
              "           8.1846e-05, 1.5278e-04],\n",
              "          ...,\n",
              "          [5.2779e-06, 1.3963e-06, 1.7204e-06,  ..., 3.4277e-07,\n",
              "           4.1070e-07, 2.7675e-05],\n",
              "          [3.9800e-06, 1.4809e-06, 3.7638e-07,  ..., 5.6260e-07,\n",
              "           4.0235e-07, 2.8816e-05],\n",
              "          [3.0980e-06, 5.3938e-07, 2.4932e-07,  ..., 2.4536e-07,\n",
              "           3.0605e-07, 2.9493e-05]],\n",
              " \n",
              "         [[5.8612e-04, 1.0012e-04, 4.2933e-04,  ..., 3.4408e-04,\n",
              "           2.7148e-04, 2.7125e-04],\n",
              "          [4.4804e-04, 4.8357e-05, 3.7096e-04,  ..., 3.0921e-04,\n",
              "           2.3744e-04, 2.2167e-04],\n",
              "          [2.5109e-04, 3.3724e-05, 3.4696e-04,  ..., 3.8694e-04,\n",
              "           8.1846e-05, 1.5278e-04],\n",
              "          ...,\n",
              "          [5.2779e-06, 1.3963e-06, 1.7204e-06,  ..., 3.4277e-07,\n",
              "           4.1070e-07, 2.7675e-05],\n",
              "          [3.9800e-06, 1.4809e-06, 3.7638e-07,  ..., 5.6260e-07,\n",
              "           4.0235e-07, 2.8816e-05],\n",
              "          [3.0980e-06, 5.3938e-07, 2.4932e-07,  ..., 2.4536e-07,\n",
              "           3.0605e-07, 2.9493e-05]],\n",
              " \n",
              "         [[5.8612e-04, 1.0012e-04, 4.2933e-04,  ..., 3.4408e-04,\n",
              "           2.7148e-04, 2.7125e-04],\n",
              "          [4.4804e-04, 4.8357e-05, 3.7096e-04,  ..., 3.0921e-04,\n",
              "           2.3744e-04, 2.2167e-04],\n",
              "          [2.5109e-04, 3.3724e-05, 3.4696e-04,  ..., 3.8694e-04,\n",
              "           8.1846e-05, 1.5278e-04],\n",
              "          ...,\n",
              "          [5.2779e-06, 1.3963e-06, 1.7204e-06,  ..., 3.4277e-07,\n",
              "           4.1070e-07, 2.7675e-05],\n",
              "          [3.9800e-06, 1.4809e-06, 3.7638e-07,  ..., 5.6260e-07,\n",
              "           4.0235e-07, 2.8816e-05],\n",
              "          [3.0980e-06, 5.3938e-07, 2.4932e-07,  ..., 2.4536e-07,\n",
              "           3.0605e-07, 2.9493e-05]],\n",
              " \n",
              "         ...,\n",
              " \n",
              "         [[5.8612e-04, 1.0012e-04, 4.2933e-04,  ..., 3.4408e-04,\n",
              "           2.7148e-04, 2.7125e-04],\n",
              "          [4.4804e-04, 4.8357e-05, 3.7096e-04,  ..., 3.0921e-04,\n",
              "           2.3744e-04, 2.2167e-04],\n",
              "          [2.5109e-04, 3.3724e-05, 3.4696e-04,  ..., 3.8694e-04,\n",
              "           8.1846e-05, 1.5278e-04],\n",
              "          ...,\n",
              "          [5.2779e-06, 1.3963e-06, 1.7204e-06,  ..., 3.4277e-07,\n",
              "           4.1070e-07, 2.7675e-05],\n",
              "          [3.9800e-06, 1.4809e-06, 3.7638e-07,  ..., 5.6260e-07,\n",
              "           4.0235e-07, 2.8816e-05],\n",
              "          [3.0980e-06, 5.3938e-07, 2.4932e-07,  ..., 2.4536e-07,\n",
              "           3.0605e-07, 2.9493e-05]],\n",
              " \n",
              "         [[5.8612e-04, 1.0012e-04, 4.2933e-04,  ..., 3.4408e-04,\n",
              "           2.7148e-04, 2.7125e-04],\n",
              "          [4.4804e-04, 4.8357e-05, 3.7096e-04,  ..., 3.0921e-04,\n",
              "           2.3744e-04, 2.2167e-04],\n",
              "          [2.5109e-04, 3.3724e-05, 3.4696e-04,  ..., 3.8694e-04,\n",
              "           8.1846e-05, 1.5278e-04],\n",
              "          ...,\n",
              "          [5.2779e-06, 1.3963e-06, 1.7204e-06,  ..., 3.4277e-07,\n",
              "           4.1070e-07, 2.7675e-05],\n",
              "          [3.9800e-06, 1.4809e-06, 3.7638e-07,  ..., 5.6260e-07,\n",
              "           4.0235e-07, 2.8816e-05],\n",
              "          [3.0980e-06, 5.3938e-07, 2.4932e-07,  ..., 2.4536e-07,\n",
              "           3.0605e-07, 2.9493e-05]],\n",
              " \n",
              "         [[5.8612e-04, 1.0012e-04, 4.2933e-04,  ..., 3.4408e-04,\n",
              "           2.7148e-04, 2.7125e-04],\n",
              "          [4.4804e-04, 4.8357e-05, 3.7096e-04,  ..., 3.0921e-04,\n",
              "           2.3744e-04, 2.2167e-04],\n",
              "          [2.5109e-04, 3.3724e-05, 3.4696e-04,  ..., 3.8694e-04,\n",
              "           8.1846e-05, 1.5278e-04],\n",
              "          ...,\n",
              "          [5.2779e-06, 1.3963e-06, 1.7204e-06,  ..., 3.4277e-07,\n",
              "           4.1070e-07, 2.7675e-05],\n",
              "          [3.9800e-06, 1.4809e-06, 3.7638e-07,  ..., 5.6260e-07,\n",
              "           4.0235e-07, 2.8816e-05],\n",
              "          [3.0980e-06, 5.3938e-07, 2.4932e-07,  ..., 2.4536e-07,\n",
              "           3.0605e-07, 2.9493e-05]]]),\n",
              " 'drop_last': False,\n",
              " 'num_workers': 0,\n",
              " 'pin_memory': False,\n",
              " 'sampler': <torch.utils.data.sampler.RandomSampler at 0x7f5b77fd2208>,\n",
              " 'timeout': 0,\n",
              " 'worker_init_fn': None}"
            ]
          },
          "metadata": {
            "tags": []
          },
          "execution_count": 27
        }
      ]
    },
    {
      "cell_type": "code",
      "metadata": {
        "id": "X3ITNYnAOnvf",
        "colab_type": "code",
        "colab": {}
      },
      "source": [
        "D = np.load('/content/drive/My Drive/Paper/MMDense-Net/Mixtures/051 - AM Contra - Heart Peripheral/mixture_stft.npy')"
      ],
      "execution_count": 0,
      "outputs": []
    },
    {
      "cell_type": "code",
      "metadata": {
        "id": "69ZHQQQLVR4e",
        "colab_type": "code",
        "colab": {
          "base_uri": "https://localhost:8080/",
          "height": 34
        },
        "outputId": "76025f37-fe2e-4dfb-c228-1367e54100d9"
      },
      "source": [
        "D.shape"
      ],
      "execution_count": 14,
      "outputs": [
        {
          "output_type": "execute_result",
          "data": {
            "text/plain": [
              "(1025, 4525)"
            ]
          },
          "metadata": {
            "tags": []
          },
          "execution_count": 14
        }
      ]
    },
    {
      "cell_type": "code",
      "metadata": {
        "id": "d1EZ_ZchT1yc",
        "colab_type": "code",
        "colab": {}
      },
      "source": [
        "data = np.tile(D, (600, 1, 1))"
      ],
      "execution_count": 0,
      "outputs": []
    },
    {
      "cell_type": "code",
      "metadata": {
        "id": "JvWHtklyVVtA",
        "colab_type": "code",
        "colab": {
          "base_uri": "https://localhost:8080/",
          "height": 34
        },
        "outputId": "68a077a5-54db-4e7f-9a0c-3cfa0b496ad6"
      },
      "source": [
        "data.shape"
      ],
      "execution_count": 22,
      "outputs": [
        {
          "output_type": "execute_result",
          "data": {
            "text/plain": [
              "(600, 1025, 4525)"
            ]
          },
          "metadata": {
            "tags": []
          },
          "execution_count": 22
        }
      ]
    },
    {
      "cell_type": "code",
      "metadata": {
        "id": "ghhWL3Y1O0vu",
        "colab_type": "code",
        "colab": {}
      },
      "source": [
        "data = torch.from_numpy(data)"
      ],
      "execution_count": 0,
      "outputs": []
    },
    {
      "cell_type": "code",
      "metadata": {
        "id": "O3rQjy1oSytI",
        "colab_type": "code",
        "colab": {
          "base_uri": "https://localhost:8080/",
          "height": 34
        },
        "outputId": "b19b7dc2-f55e-4256-a473-e1c70be42d32"
      },
      "source": [
        "data.shape"
      ],
      "execution_count": 24,
      "outputs": [
        {
          "output_type": "execute_result",
          "data": {
            "text/plain": [
              "torch.Size([600, 1025, 4525])"
            ]
          },
          "metadata": {
            "tags": []
          },
          "execution_count": 24
        }
      ]
    },
    {
      "cell_type": "code",
      "metadata": {
        "id": "RtfYaY7sTDd3",
        "colab_type": "code",
        "colab": {}
      },
      "source": [
        "num_epochs = 100\n",
        "batch_size = 128\n",
        "learning_rate = 1e-3\n",
        "dataloader = DataLoader(data, batch_size=batch_size, shuffle=True)"
      ],
      "execution_count": 0,
      "outputs": []
    },
    {
      "cell_type": "code",
      "metadata": {
        "id": "H31i4qapSygp",
        "colab_type": "code",
        "colab": {}
      },
      "source": [
        ""
      ],
      "execution_count": 0,
      "outputs": []
    },
    {
      "cell_type": "code",
      "metadata": {
        "id": "TZMrpkOdRxvU",
        "colab_type": "code",
        "colab": {
          "base_uri": "https://localhost:8080/",
          "height": 416
        },
        "outputId": "1f9f7e44-f93c-4fb6-e608-20805e23b4ef"
      },
      "source": [
        "\n",
        "import torch\n",
        "import torchvision\n",
        "from torch import nn\n",
        "from torch.autograd import Variable\n",
        "from torch.utils.data import DataLoader\n",
        "from torchvision import transforms\n",
        "from torchvision.utils import save_image\n",
        "from torchvision.datasets import MNIST\n",
        "import os\n",
        "\n",
        "if not os.path.exists('./dc_img'):\n",
        "    os.mkdir('./dc_img')\n",
        "\n",
        "\n",
        "def to_img(x):\n",
        "    x = 0.5 * (x + 1)\n",
        "    x = x.clamp(0, 1)\n",
        "    x = x.view(x.size(0), 1, 28, 28)\n",
        "    return x\n",
        "\n",
        "\n",
        "num_epochs = 100\n",
        "batch_size = 128\n",
        "learning_rate = 1e-3\n",
        "\n",
        "# img_transform = transforms.Compose([\n",
        "#     transforms.ToTensor(),\n",
        "# #     transforms.Normalize((0.5, 0.5, 0.5), (0.5, 0.5, 0.5))\n",
        "#     transforms.Normalize((0.5,), (0.5,))\n",
        "# ])\n",
        "\n",
        "dataset = MNIST('./data', transform=img_transform)\n",
        "dataloader = DataLoader(dataset, batch_size=batch_size, shuffle=True)\n",
        "\n",
        "\n",
        "class MyDataset(torch.utils.data.Dataset):\n",
        "\n",
        "    def __init__(self, data_num, transform=None):\n",
        "        self.transform = transform\n",
        "        self.data_num = data_num\n",
        "        self.data = []\n",
        "        self.label = []\n",
        "        for x in range(self.data_num):\n",
        "            self.data.append(x) # 0 から (data_num-1) までのリスト\n",
        "            self.label.append(x%2 == 0) # 偶数ならTrue 奇数ならFalse\n",
        "\n",
        "    def __len__(self):\n",
        "        return self.data_num\n",
        "\n",
        "    def __getitem__(self, idx):\n",
        "        out_data = self.data[idx]\n",
        "        out_label =  self.label[idx]\n",
        "\n",
        "        if self.transform:\n",
        "            out_data = self.transform(out_data)\n",
        "\n",
        "        return out_data, out_label\n",
        "\n",
        "\n",
        "class autoencoder(nn.Module):\n",
        "    def __init__(self):\n",
        "        super(autoencoder, self).__init__()\n",
        "        self.encoder = nn.Sequential(\n",
        "            nn.Conv2d(1, 16, 3, stride=3, padding=1),  # b, 16, 10, 10\n",
        "            nn.ReLU(True),\n",
        "            nn.MaxPool2d(2, stride=2),  # b, 16, 5, 5\n",
        "            nn.Conv2d(16, 8, 3, stride=2, padding=1),  # b, 8, 3, 3\n",
        "            nn.ReLU(True),\n",
        "            nn.MaxPool2d(2, stride=1)  # b, 8, 2, 2\n",
        "        )\n",
        "        self.decoder = nn.Sequential(\n",
        "            nn.ConvTranspose2d(8, 16, 3, stride=2),  # b, 16, 5, 5\n",
        "            nn.ReLU(True),\n",
        "            nn.ConvTranspose2d(16, 8, 5, stride=3, padding=1),  # b, 8, 15, 15\n",
        "            nn.ReLU(True),\n",
        "            nn.ConvTranspose2d(8, 1, 2, stride=2, padding=1),  # b, 1, 28, 28\n",
        "            nn.Tanh()\n",
        "        )\n",
        "\n",
        "    def forward(self, x):\n",
        "        x = self.encoder(x)\n",
        "        x = self.decoder(x)\n",
        "        return x\n",
        "\n",
        "device = torch.device('cuda:0')\n",
        "model = autoencoder()\n",
        "criterion = nn.MSELoss()\n",
        "optimizer = torch.optim.Adam(model.parameters(), lr=learning_rate,\n",
        "                             weight_decay=1e-5)\n",
        "\n",
        "for epoch in range(num_epochs):\n",
        "    for data in dataloader:\n",
        "        img, _ = data\n",
        "        img = Variable(img)\n",
        "        # ===================forward=====================\n",
        "        output = model(img)\n",
        "        loss = criterion(output, img)\n",
        "        # ===================backward====================\n",
        "        optimizer.zero_grad()\n",
        "        loss.backward()\n",
        "        optimizer.step()\n",
        "    # ===================log========================\n",
        "    print('epoch [{}/{}], loss:{:.4f}'.format(epoch+1, num_epochs, loss.data))\n",
        "    if epoch % 10 == 0:\n",
        "        pic = to_img(output.cpu().data)\n",
        "        save_image(pic, './dc_img/image_{}.png'.format(epoch))\n",
        "\n",
        "torch.save(model.state_dict(), './MNIST_test.pth')\n",
        "# param = torch.load('model.pth')\n",
        "# model = autoencoder() #読み込む前にクラス宣言が必要\n",
        "# model.load_state_dict(param)"
      ],
      "execution_count": 36,
      "outputs": [
        {
          "output_type": "stream",
          "text": [
            "epoch [1/100], loss:0.1843\n"
          ],
          "name": "stdout"
        },
        {
          "output_type": "error",
          "ename": "KeyboardInterrupt",
          "evalue": "ignored",
          "traceback": [
            "\u001b[0;31m---------------------------------------------------------------------------\u001b[0m",
            "\u001b[0;31mKeyboardInterrupt\u001b[0m                         Traceback (most recent call last)",
            "\u001b[0;32m<ipython-input-36-42f3ebe4690d>\u001b[0m in \u001b[0;36m<module>\u001b[0;34m()\u001b[0m\n\u001b[1;32m     95\u001b[0m         \u001b[0mimg\u001b[0m \u001b[0;34m=\u001b[0m \u001b[0mVariable\u001b[0m\u001b[0;34m(\u001b[0m\u001b[0mimg\u001b[0m\u001b[0;34m)\u001b[0m\u001b[0;34m\u001b[0m\u001b[0;34m\u001b[0m\u001b[0m\n\u001b[1;32m     96\u001b[0m         \u001b[0;31m# ===================forward=====================\u001b[0m\u001b[0;34m\u001b[0m\u001b[0;34m\u001b[0m\u001b[0;34m\u001b[0m\u001b[0m\n\u001b[0;32m---> 97\u001b[0;31m         \u001b[0moutput\u001b[0m \u001b[0;34m=\u001b[0m \u001b[0mmodel\u001b[0m\u001b[0;34m(\u001b[0m\u001b[0mimg\u001b[0m\u001b[0;34m)\u001b[0m\u001b[0;34m\u001b[0m\u001b[0;34m\u001b[0m\u001b[0m\n\u001b[0m\u001b[1;32m     98\u001b[0m         \u001b[0mloss\u001b[0m \u001b[0;34m=\u001b[0m \u001b[0mcriterion\u001b[0m\u001b[0;34m(\u001b[0m\u001b[0moutput\u001b[0m\u001b[0;34m,\u001b[0m \u001b[0mimg\u001b[0m\u001b[0;34m)\u001b[0m\u001b[0;34m\u001b[0m\u001b[0;34m\u001b[0m\u001b[0m\n\u001b[1;32m     99\u001b[0m         \u001b[0;31m# ===================backward====================\u001b[0m\u001b[0;34m\u001b[0m\u001b[0;34m\u001b[0m\u001b[0;34m\u001b[0m\u001b[0m\n",
            "\u001b[0;32m/usr/local/lib/python3.6/dist-packages/torch/nn/modules/module.py\u001b[0m in \u001b[0;36m__call__\u001b[0;34m(self, *input, **kwargs)\u001b[0m\n\u001b[1;32m    491\u001b[0m             \u001b[0mresult\u001b[0m \u001b[0;34m=\u001b[0m \u001b[0mself\u001b[0m\u001b[0;34m.\u001b[0m\u001b[0m_slow_forward\u001b[0m\u001b[0;34m(\u001b[0m\u001b[0;34m*\u001b[0m\u001b[0minput\u001b[0m\u001b[0;34m,\u001b[0m \u001b[0;34m**\u001b[0m\u001b[0mkwargs\u001b[0m\u001b[0;34m)\u001b[0m\u001b[0;34m\u001b[0m\u001b[0;34m\u001b[0m\u001b[0m\n\u001b[1;32m    492\u001b[0m         \u001b[0;32melse\u001b[0m\u001b[0;34m:\u001b[0m\u001b[0;34m\u001b[0m\u001b[0;34m\u001b[0m\u001b[0m\n\u001b[0;32m--> 493\u001b[0;31m             \u001b[0mresult\u001b[0m \u001b[0;34m=\u001b[0m \u001b[0mself\u001b[0m\u001b[0;34m.\u001b[0m\u001b[0mforward\u001b[0m\u001b[0;34m(\u001b[0m\u001b[0;34m*\u001b[0m\u001b[0minput\u001b[0m\u001b[0;34m,\u001b[0m \u001b[0;34m**\u001b[0m\u001b[0mkwargs\u001b[0m\u001b[0;34m)\u001b[0m\u001b[0;34m\u001b[0m\u001b[0;34m\u001b[0m\u001b[0m\n\u001b[0m\u001b[1;32m    494\u001b[0m         \u001b[0;32mfor\u001b[0m \u001b[0mhook\u001b[0m \u001b[0;32min\u001b[0m \u001b[0mself\u001b[0m\u001b[0;34m.\u001b[0m\u001b[0m_forward_hooks\u001b[0m\u001b[0;34m.\u001b[0m\u001b[0mvalues\u001b[0m\u001b[0;34m(\u001b[0m\u001b[0;34m)\u001b[0m\u001b[0;34m:\u001b[0m\u001b[0;34m\u001b[0m\u001b[0;34m\u001b[0m\u001b[0m\n\u001b[1;32m    495\u001b[0m             \u001b[0mhook_result\u001b[0m \u001b[0;34m=\u001b[0m \u001b[0mhook\u001b[0m\u001b[0;34m(\u001b[0m\u001b[0mself\u001b[0m\u001b[0;34m,\u001b[0m \u001b[0minput\u001b[0m\u001b[0;34m,\u001b[0m \u001b[0mresult\u001b[0m\u001b[0;34m)\u001b[0m\u001b[0;34m\u001b[0m\u001b[0;34m\u001b[0m\u001b[0m\n",
            "\u001b[0;32m<ipython-input-36-42f3ebe4690d>\u001b[0m in \u001b[0;36mforward\u001b[0;34m(self, x)\u001b[0m\n\u001b[1;32m     80\u001b[0m \u001b[0;34m\u001b[0m\u001b[0m\n\u001b[1;32m     81\u001b[0m     \u001b[0;32mdef\u001b[0m \u001b[0mforward\u001b[0m\u001b[0;34m(\u001b[0m\u001b[0mself\u001b[0m\u001b[0;34m,\u001b[0m \u001b[0mx\u001b[0m\u001b[0;34m)\u001b[0m\u001b[0;34m:\u001b[0m\u001b[0;34m\u001b[0m\u001b[0;34m\u001b[0m\u001b[0m\n\u001b[0;32m---> 82\u001b[0;31m         \u001b[0mx\u001b[0m \u001b[0;34m=\u001b[0m \u001b[0mself\u001b[0m\u001b[0;34m.\u001b[0m\u001b[0mencoder\u001b[0m\u001b[0;34m(\u001b[0m\u001b[0mx\u001b[0m\u001b[0;34m)\u001b[0m\u001b[0;34m\u001b[0m\u001b[0;34m\u001b[0m\u001b[0m\n\u001b[0m\u001b[1;32m     83\u001b[0m         \u001b[0mx\u001b[0m \u001b[0;34m=\u001b[0m \u001b[0mself\u001b[0m\u001b[0;34m.\u001b[0m\u001b[0mdecoder\u001b[0m\u001b[0;34m(\u001b[0m\u001b[0mx\u001b[0m\u001b[0;34m)\u001b[0m\u001b[0;34m\u001b[0m\u001b[0;34m\u001b[0m\u001b[0m\n\u001b[1;32m     84\u001b[0m         \u001b[0;32mreturn\u001b[0m \u001b[0mx\u001b[0m\u001b[0;34m\u001b[0m\u001b[0;34m\u001b[0m\u001b[0m\n",
            "\u001b[0;32m/usr/local/lib/python3.6/dist-packages/torch/nn/modules/module.py\u001b[0m in \u001b[0;36m__call__\u001b[0;34m(self, *input, **kwargs)\u001b[0m\n\u001b[1;32m    491\u001b[0m             \u001b[0mresult\u001b[0m \u001b[0;34m=\u001b[0m \u001b[0mself\u001b[0m\u001b[0;34m.\u001b[0m\u001b[0m_slow_forward\u001b[0m\u001b[0;34m(\u001b[0m\u001b[0;34m*\u001b[0m\u001b[0minput\u001b[0m\u001b[0;34m,\u001b[0m \u001b[0;34m**\u001b[0m\u001b[0mkwargs\u001b[0m\u001b[0;34m)\u001b[0m\u001b[0;34m\u001b[0m\u001b[0;34m\u001b[0m\u001b[0m\n\u001b[1;32m    492\u001b[0m         \u001b[0;32melse\u001b[0m\u001b[0;34m:\u001b[0m\u001b[0;34m\u001b[0m\u001b[0;34m\u001b[0m\u001b[0m\n\u001b[0;32m--> 493\u001b[0;31m             \u001b[0mresult\u001b[0m \u001b[0;34m=\u001b[0m \u001b[0mself\u001b[0m\u001b[0;34m.\u001b[0m\u001b[0mforward\u001b[0m\u001b[0;34m(\u001b[0m\u001b[0;34m*\u001b[0m\u001b[0minput\u001b[0m\u001b[0;34m,\u001b[0m \u001b[0;34m**\u001b[0m\u001b[0mkwargs\u001b[0m\u001b[0;34m)\u001b[0m\u001b[0;34m\u001b[0m\u001b[0;34m\u001b[0m\u001b[0m\n\u001b[0m\u001b[1;32m    494\u001b[0m         \u001b[0;32mfor\u001b[0m \u001b[0mhook\u001b[0m \u001b[0;32min\u001b[0m \u001b[0mself\u001b[0m\u001b[0;34m.\u001b[0m\u001b[0m_forward_hooks\u001b[0m\u001b[0;34m.\u001b[0m\u001b[0mvalues\u001b[0m\u001b[0;34m(\u001b[0m\u001b[0;34m)\u001b[0m\u001b[0;34m:\u001b[0m\u001b[0;34m\u001b[0m\u001b[0;34m\u001b[0m\u001b[0m\n\u001b[1;32m    495\u001b[0m             \u001b[0mhook_result\u001b[0m \u001b[0;34m=\u001b[0m \u001b[0mhook\u001b[0m\u001b[0;34m(\u001b[0m\u001b[0mself\u001b[0m\u001b[0;34m,\u001b[0m \u001b[0minput\u001b[0m\u001b[0;34m,\u001b[0m \u001b[0mresult\u001b[0m\u001b[0;34m)\u001b[0m\u001b[0;34m\u001b[0m\u001b[0;34m\u001b[0m\u001b[0m\n",
            "\u001b[0;32m/usr/local/lib/python3.6/dist-packages/torch/nn/modules/container.py\u001b[0m in \u001b[0;36mforward\u001b[0;34m(self, input)\u001b[0m\n\u001b[1;32m     90\u001b[0m     \u001b[0;32mdef\u001b[0m \u001b[0mforward\u001b[0m\u001b[0;34m(\u001b[0m\u001b[0mself\u001b[0m\u001b[0;34m,\u001b[0m \u001b[0minput\u001b[0m\u001b[0;34m)\u001b[0m\u001b[0;34m:\u001b[0m\u001b[0;34m\u001b[0m\u001b[0;34m\u001b[0m\u001b[0m\n\u001b[1;32m     91\u001b[0m         \u001b[0;32mfor\u001b[0m \u001b[0mmodule\u001b[0m \u001b[0;32min\u001b[0m \u001b[0mself\u001b[0m\u001b[0;34m.\u001b[0m\u001b[0m_modules\u001b[0m\u001b[0;34m.\u001b[0m\u001b[0mvalues\u001b[0m\u001b[0;34m(\u001b[0m\u001b[0;34m)\u001b[0m\u001b[0;34m:\u001b[0m\u001b[0;34m\u001b[0m\u001b[0;34m\u001b[0m\u001b[0m\n\u001b[0;32m---> 92\u001b[0;31m             \u001b[0minput\u001b[0m \u001b[0;34m=\u001b[0m \u001b[0mmodule\u001b[0m\u001b[0;34m(\u001b[0m\u001b[0minput\u001b[0m\u001b[0;34m)\u001b[0m\u001b[0;34m\u001b[0m\u001b[0;34m\u001b[0m\u001b[0m\n\u001b[0m\u001b[1;32m     93\u001b[0m         \u001b[0;32mreturn\u001b[0m \u001b[0minput\u001b[0m\u001b[0;34m\u001b[0m\u001b[0;34m\u001b[0m\u001b[0m\n\u001b[1;32m     94\u001b[0m \u001b[0;34m\u001b[0m\u001b[0m\n",
            "\u001b[0;32m/usr/local/lib/python3.6/dist-packages/torch/nn/modules/module.py\u001b[0m in \u001b[0;36m__call__\u001b[0;34m(self, *input, **kwargs)\u001b[0m\n\u001b[1;32m    491\u001b[0m             \u001b[0mresult\u001b[0m \u001b[0;34m=\u001b[0m \u001b[0mself\u001b[0m\u001b[0;34m.\u001b[0m\u001b[0m_slow_forward\u001b[0m\u001b[0;34m(\u001b[0m\u001b[0;34m*\u001b[0m\u001b[0minput\u001b[0m\u001b[0;34m,\u001b[0m \u001b[0;34m**\u001b[0m\u001b[0mkwargs\u001b[0m\u001b[0;34m)\u001b[0m\u001b[0;34m\u001b[0m\u001b[0;34m\u001b[0m\u001b[0m\n\u001b[1;32m    492\u001b[0m         \u001b[0;32melse\u001b[0m\u001b[0;34m:\u001b[0m\u001b[0;34m\u001b[0m\u001b[0;34m\u001b[0m\u001b[0m\n\u001b[0;32m--> 493\u001b[0;31m             \u001b[0mresult\u001b[0m \u001b[0;34m=\u001b[0m \u001b[0mself\u001b[0m\u001b[0;34m.\u001b[0m\u001b[0mforward\u001b[0m\u001b[0;34m(\u001b[0m\u001b[0;34m*\u001b[0m\u001b[0minput\u001b[0m\u001b[0;34m,\u001b[0m \u001b[0;34m**\u001b[0m\u001b[0mkwargs\u001b[0m\u001b[0;34m)\u001b[0m\u001b[0;34m\u001b[0m\u001b[0;34m\u001b[0m\u001b[0m\n\u001b[0m\u001b[1;32m    494\u001b[0m         \u001b[0;32mfor\u001b[0m \u001b[0mhook\u001b[0m \u001b[0;32min\u001b[0m \u001b[0mself\u001b[0m\u001b[0;34m.\u001b[0m\u001b[0m_forward_hooks\u001b[0m\u001b[0;34m.\u001b[0m\u001b[0mvalues\u001b[0m\u001b[0;34m(\u001b[0m\u001b[0;34m)\u001b[0m\u001b[0;34m:\u001b[0m\u001b[0;34m\u001b[0m\u001b[0;34m\u001b[0m\u001b[0m\n\u001b[1;32m    495\u001b[0m             \u001b[0mhook_result\u001b[0m \u001b[0;34m=\u001b[0m \u001b[0mhook\u001b[0m\u001b[0;34m(\u001b[0m\u001b[0mself\u001b[0m\u001b[0;34m,\u001b[0m \u001b[0minput\u001b[0m\u001b[0;34m,\u001b[0m \u001b[0mresult\u001b[0m\u001b[0;34m)\u001b[0m\u001b[0;34m\u001b[0m\u001b[0;34m\u001b[0m\u001b[0m\n",
            "\u001b[0;32m/usr/local/lib/python3.6/dist-packages/torch/nn/modules/conv.py\u001b[0m in \u001b[0;36mforward\u001b[0;34m(self, input)\u001b[0m\n\u001b[1;32m    336\u001b[0m                             _pair(0), self.dilation, self.groups)\n\u001b[1;32m    337\u001b[0m         return F.conv2d(input, self.weight, self.bias, self.stride,\n\u001b[0;32m--> 338\u001b[0;31m                         self.padding, self.dilation, self.groups)\n\u001b[0m\u001b[1;32m    339\u001b[0m \u001b[0;34m\u001b[0m\u001b[0m\n\u001b[1;32m    340\u001b[0m \u001b[0;34m\u001b[0m\u001b[0m\n",
            "\u001b[0;31mKeyboardInterrupt\u001b[0m: "
          ]
        }
      ]
    },
    {
      "cell_type": "code",
      "metadata": {
        "id": "gmEa2FRnSIlp",
        "colab_type": "code",
        "colab": {
          "base_uri": "https://localhost:8080/",
          "height": 34
        },
        "outputId": "a2abd279-933c-4790-d7e4-dcee6c170077"
      },
      "source": [
        "class autoencoder(nn.Module):\n",
        "    def __init__(self):\n",
        "        super(autoencoder, self).__init__()\n",
        "        self.encoder = nn.Sequential(\n",
        "            nn.Conv2d(1, 16, 3, stride=3, padding=1),  # b, 16, 10, 10\n",
        "            nn.ReLU(True),\n",
        "            nn.MaxPool2d(2, stride=2),  # b, 16, 5, 5\n",
        "            nn.Conv2d(16, 8, 3, stride=2, padding=1),  # b, 8, 3, 3\n",
        "            nn.ReLU(True),\n",
        "            nn.MaxPool2d(2, stride=1)  # b, 8, 2, 2\n",
        "        )\n",
        "        self.decoder = nn.Sequential(\n",
        "            nn.ConvTranspose2d(8, 16, 3, stride=2),  # b, 16, 5, 5\n",
        "            nn.ReLU(True),\n",
        "            nn.ConvTranspose2d(16, 8, 5, stride=3, padding=1),  # b, 8, 15, 15\n",
        "            nn.ReLU(True),\n",
        "            nn.ConvTranspose2d(8, 1, 2, stride=2, padding=1),  # b, 1, 28, 28\n",
        "            nn.Tanh()\n",
        "        )\n",
        "\n",
        "    def forward(self, x):\n",
        "        x = self.encoder(x)\n",
        "        x = self.decoder(x)\n",
        "        return x\n",
        "\n",
        "param = torch.load('/content/drive/My Drive/Paper/MNIST_CAE/conv_autoencoder.pth')\n",
        "device = torch.device('cuda:0')\n",
        "model = autoencoder() #読み込む前にクラス宣言が必要\n",
        "model.load_state_dict(param)"
      ],
      "execution_count": 37,
      "outputs": [
        {
          "output_type": "execute_result",
          "data": {
            "text/plain": [
              "IncompatibleKeys(missing_keys=[], unexpected_keys=[])"
            ]
          },
          "metadata": {
            "tags": []
          },
          "execution_count": 37
        }
      ]
    },
    {
      "cell_type": "code",
      "metadata": {
        "id": "ZMRp47E1aDMa",
        "colab_type": "code",
        "colab": {}
      },
      "source": [
        "dataset = MNIST('./data', transform=img_transform)\n",
        "dataloader = DataLoader(dataset, batch_size=batch_size, shuffle=True)\n",
        "for data in dataloader:\n",
        "    img, _ = data\n",
        "    img = Variable(img)\n",
        "    predict_img = model(img)\n",
        "    break"
      ],
      "execution_count": 0,
      "outputs": []
    },
    {
      "cell_type": "code",
      "metadata": {
        "id": "U1_orWfeaJ-F",
        "colab_type": "code",
        "colab": {
          "base_uri": "https://localhost:8080/",
          "height": 969
        },
        "outputId": "ad28f878-d2f7-4625-dae7-d43989ecbdad"
      },
      "source": [
        "predict_img"
      ],
      "execution_count": 59,
      "outputs": [
        {
          "output_type": "execute_result",
          "data": {
            "text/plain": [
              "tensor([[[[-0.9991, -0.9987, -0.9993,  ..., -0.9999, -1.0000, -0.9974],\n",
              "          [-1.0000, -1.0000, -1.0000,  ..., -1.0000, -1.0000, -1.0000],\n",
              "          [-1.0000, -1.0000, -1.0000,  ..., -1.0000, -1.0000, -1.0000],\n",
              "          ...,\n",
              "          [-1.0000, -1.0000, -1.0000,  ..., -1.0000, -1.0000, -1.0000],\n",
              "          [-1.0000, -1.0000, -1.0000,  ..., -1.0000, -1.0000, -1.0000],\n",
              "          [-1.0000, -1.0000, -1.0000,  ..., -0.9999, -1.0000, -1.0000]]],\n",
              "\n",
              "\n",
              "        [[[-0.9880, -0.9862, -0.9976,  ..., -0.9995, -0.9999, -0.9963],\n",
              "          [-1.0000, -1.0000, -1.0000,  ..., -1.0000, -1.0000, -1.0000],\n",
              "          [-1.0000, -1.0000, -1.0000,  ..., -1.0000, -1.0000, -1.0000],\n",
              "          ...,\n",
              "          [-0.9999, -1.0000, -1.0000,  ..., -1.0000, -1.0000, -1.0000],\n",
              "          [-0.9999, -1.0000, -1.0000,  ..., -1.0000, -1.0000, -1.0000],\n",
              "          [-1.0000, -1.0000, -1.0000,  ..., -0.9998, -1.0000, -1.0000]]],\n",
              "\n",
              "\n",
              "        [[[-0.9994, -0.9998, -0.9999,  ..., -0.9999, -1.0000, -0.9964],\n",
              "          [-1.0000, -1.0000, -1.0000,  ..., -1.0000, -1.0000, -1.0000],\n",
              "          [-1.0000, -1.0000, -1.0000,  ..., -1.0000, -1.0000, -1.0000],\n",
              "          ...,\n",
              "          [-1.0000, -1.0000, -1.0000,  ..., -1.0000, -1.0000, -1.0000],\n",
              "          [-1.0000, -1.0000, -1.0000,  ..., -1.0000, -1.0000, -1.0000],\n",
              "          [-1.0000, -1.0000, -1.0000,  ..., -0.9972, -1.0000, -1.0000]]],\n",
              "\n",
              "\n",
              "        ...,\n",
              "\n",
              "\n",
              "        [[[-0.9921, -0.9869, -0.9981,  ..., -0.9994, -0.9999, -0.9951],\n",
              "          [-1.0000, -1.0000, -1.0000,  ..., -1.0000, -1.0000, -1.0000],\n",
              "          [-1.0000, -1.0000, -1.0000,  ..., -1.0000, -1.0000, -1.0000],\n",
              "          ...,\n",
              "          [-1.0000, -1.0000, -1.0000,  ..., -1.0000, -1.0000, -1.0000],\n",
              "          [-1.0000, -1.0000, -1.0000,  ..., -1.0000, -1.0000, -1.0000],\n",
              "          [-1.0000, -1.0000, -1.0000,  ..., -0.9998, -1.0000, -1.0000]]],\n",
              "\n",
              "\n",
              "        [[[-0.9985, -0.9996, -0.9997,  ..., -0.9998, -1.0000, -0.9956],\n",
              "          [-1.0000, -1.0000, -1.0000,  ..., -1.0000, -1.0000, -1.0000],\n",
              "          [-1.0000, -1.0000, -1.0000,  ..., -1.0000, -1.0000, -1.0000],\n",
              "          ...,\n",
              "          [-1.0000, -1.0000, -1.0000,  ..., -1.0000, -1.0000, -1.0000],\n",
              "          [-1.0000, -1.0000, -1.0000,  ..., -1.0000, -1.0000, -1.0000],\n",
              "          [-1.0000, -1.0000, -1.0000,  ..., -0.9997, -1.0000, -1.0000]]],\n",
              "\n",
              "\n",
              "        [[[-0.9981, -0.9988, -0.9990,  ..., -0.9999, -1.0000, -0.9974],\n",
              "          [-0.9999, -1.0000, -1.0000,  ..., -1.0000, -1.0000, -1.0000],\n",
              "          [-1.0000, -1.0000, -1.0000,  ..., -1.0000, -1.0000, -1.0000],\n",
              "          ...,\n",
              "          [-1.0000, -1.0000, -1.0000,  ..., -1.0000, -1.0000, -1.0000],\n",
              "          [-1.0000, -1.0000, -1.0000,  ..., -1.0000, -1.0000, -1.0000],\n",
              "          [-1.0000, -1.0000, -1.0000,  ..., -0.9957, -1.0000, -1.0000]]]],\n",
              "       grad_fn=<TanhBackward>)"
            ]
          },
          "metadata": {
            "tags": []
          },
          "execution_count": 59
        }
      ]
    },
    {
      "cell_type": "code",
      "metadata": {
        "id": "aoAueeZ6b86M",
        "colab_type": "code",
        "colab": {
          "base_uri": "https://localhost:8080/",
          "height": 952
        },
        "outputId": "0d46d996-3063-443d-8c39-4d0ca01c2103"
      },
      "source": [
        "output.cpu().data"
      ],
      "execution_count": 60,
      "outputs": [
        {
          "output_type": "execute_result",
          "data": {
            "text/plain": [
              "tensor([[[[-0.9887, -0.9955, -0.9988,  ..., -0.9998, -0.9999, -0.9981],\n",
              "          [-0.9989, -0.9969, -0.9996,  ..., -1.0000, -1.0000, -0.9999],\n",
              "          [-0.9982, -0.9969, -0.9998,  ..., -0.9999, -1.0000, -0.9995],\n",
              "          ...,\n",
              "          [-0.9989, -0.9921, -0.9974,  ..., -0.9994, -0.9967, -0.9984],\n",
              "          [-0.9996, -0.9960, -0.9989,  ..., -0.9937, -0.9897, -0.9924],\n",
              "          [-1.0000, -0.9986, -0.9998,  ..., -0.9994, -0.9991, -0.9838]]],\n",
              "\n",
              "\n",
              "        [[[-0.9996, -0.9998, -1.0000,  ..., -0.9999, -1.0000, -0.9997],\n",
              "          [-1.0000, -0.9999, -1.0000,  ..., -1.0000, -1.0000, -1.0000],\n",
              "          [-1.0000, -0.9999, -1.0000,  ..., -1.0000, -1.0000, -0.9999],\n",
              "          ...,\n",
              "          [-0.9995, -0.9944, -0.9982,  ..., -0.9999, -0.9991, -0.9987],\n",
              "          [-0.9998, -0.9975, -0.9994,  ..., -0.9984, -0.9958, -0.9902],\n",
              "          [-1.0000, -0.9993, -0.9999,  ..., -0.9999, -0.9997, -0.9823]]],\n",
              "\n",
              "\n",
              "        [[[-0.9967, -0.9991, -0.9998,  ..., -0.9999, -1.0000, -0.9993],\n",
              "          [-0.9998, -0.9996, -1.0000,  ..., -1.0000, -1.0000, -1.0000],\n",
              "          [-0.9998, -0.9996, -1.0000,  ..., -1.0000, -1.0000, -0.9998],\n",
              "          ...,\n",
              "          [-0.9979, -0.9893, -0.9955,  ..., -0.9992, -0.9959, -0.9985],\n",
              "          [-0.9994, -0.9951, -0.9985,  ..., -0.9904, -0.9885, -0.9921],\n",
              "          [-0.9999, -0.9985, -0.9998,  ..., -0.9993, -0.9989, -0.9777]]],\n",
              "\n",
              "\n",
              "        ...,\n",
              "\n",
              "\n",
              "        [[[-0.9979, -0.9990, -0.9998,  ..., -0.9996, -0.9999, -0.9986],\n",
              "          [-0.9999, -0.9994, -1.0000,  ..., -0.9999, -1.0000, -0.9999],\n",
              "          [-0.9998, -0.9994, -1.0000,  ..., -0.9999, -1.0000, -0.9992],\n",
              "          ...,\n",
              "          [-0.9993, -0.9935, -0.9971,  ..., -0.9994, -0.9973, -0.9989],\n",
              "          [-0.9998, -0.9972, -0.9993,  ..., -0.9937, -0.9944, -0.9931],\n",
              "          [-1.0000, -0.9993, -0.9999,  ..., -0.9989, -0.9968, -0.9672]]],\n",
              "\n",
              "\n",
              "        [[[-0.9997, -0.9997, -0.9999,  ..., -0.9997, -0.9998, -0.9979],\n",
              "          [-1.0000, -0.9998, -1.0000,  ..., -0.9999, -0.9999, -0.9998],\n",
              "          [-1.0000, -0.9998, -1.0000,  ..., -0.9998, -0.9999, -0.9989],\n",
              "          ...,\n",
              "          [-0.9994, -0.9947, -0.9980,  ..., -0.9991, -0.9914, -0.9953],\n",
              "          [-0.9998, -0.9977, -0.9994,  ..., -0.9876, -0.9714, -0.9767],\n",
              "          [-1.0000, -0.9994, -0.9999,  ..., -0.9994, -0.9986, -0.9592]]],\n",
              "\n",
              "\n",
              "        [[[-0.9955, -0.9979, -0.9994,  ..., -0.9997, -0.9999, -0.9982],\n",
              "          [-0.9997, -0.9986, -0.9999,  ..., -1.0000, -1.0000, -0.9999],\n",
              "          [-0.9995, -0.9986, -0.9999,  ..., -0.9999, -1.0000, -0.9995],\n",
              "          ...,\n",
              "          [-0.9992, -0.9931, -0.9978,  ..., -0.9994, -0.9968, -0.9987],\n",
              "          [-0.9997, -0.9967, -0.9992,  ..., -0.9933, -0.9906, -0.9937],\n",
              "          [-1.0000, -0.9989, -0.9999,  ..., -0.9995, -0.9992, -0.9838]]]])"
            ]
          },
          "metadata": {
            "tags": []
          },
          "execution_count": 60
        }
      ]
    },
    {
      "cell_type": "code",
      "metadata": {
        "id": "KkgGVSXdcTjy",
        "colab_type": "code",
        "colab": {}
      },
      "source": [
        ""
      ],
      "execution_count": 0,
      "outputs": []
    },
    {
      "cell_type": "code",
      "metadata": {
        "id": "Elr_4wZBbgPI",
        "colab_type": "code",
        "colab": {
          "base_uri": "https://localhost:8080/",
          "height": 304
        },
        "outputId": "c55da3f1-b296-486b-9484-27afd04cfbdb"
      },
      "source": [
        "pic = to_img(output.cpu().data)\n",
        "save_image(pic, './dc_img/image_)"
      ],
      "execution_count": 43,
      "outputs": [
        {
          "output_type": "error",
          "ename": "RuntimeError",
          "evalue": "ignored",
          "traceback": [
            "\u001b[0;31m---------------------------------------------------------------------------\u001b[0m",
            "\u001b[0;31mRuntimeError\u001b[0m                              Traceback (most recent call last)",
            "\u001b[0;32m<ipython-input-43-ff75b9bfd53f>\u001b[0m in \u001b[0;36m<module>\u001b[0;34m()\u001b[0m\n\u001b[0;32m----> 1\u001b[0;31m \u001b[0mpic\u001b[0m \u001b[0;34m=\u001b[0m \u001b[0mto_img\u001b[0m\u001b[0;34m(\u001b[0m\u001b[0m_\u001b[0m\u001b[0;34m)\u001b[0m\u001b[0;34m\u001b[0m\u001b[0;34m\u001b[0m\u001b[0m\n\u001b[0m\u001b[1;32m      2\u001b[0m \u001b[0msave_image\u001b[0m\u001b[0;34m(\u001b[0m\u001b[0mpic\u001b[0m\u001b[0;34m,\u001b[0m \u001b[0;34m'./dc_img/image_test.png'\u001b[0m\u001b[0;34m)\u001b[0m\u001b[0;34m\u001b[0m\u001b[0;34m\u001b[0m\u001b[0m\n",
            "\u001b[0;32m<ipython-input-36-42f3ebe4690d>\u001b[0m in \u001b[0;36mto_img\u001b[0;34m(x)\u001b[0m\n\u001b[1;32m     17\u001b[0m     \u001b[0mx\u001b[0m \u001b[0;34m=\u001b[0m \u001b[0;36m0.5\u001b[0m \u001b[0;34m*\u001b[0m \u001b[0;34m(\u001b[0m\u001b[0mx\u001b[0m \u001b[0;34m+\u001b[0m \u001b[0;36m1\u001b[0m\u001b[0;34m)\u001b[0m\u001b[0;34m\u001b[0m\u001b[0;34m\u001b[0m\u001b[0m\n\u001b[1;32m     18\u001b[0m     \u001b[0mx\u001b[0m \u001b[0;34m=\u001b[0m \u001b[0mx\u001b[0m\u001b[0;34m.\u001b[0m\u001b[0mclamp\u001b[0m\u001b[0;34m(\u001b[0m\u001b[0;36m0\u001b[0m\u001b[0;34m,\u001b[0m \u001b[0;36m1\u001b[0m\u001b[0;34m)\u001b[0m\u001b[0;34m\u001b[0m\u001b[0;34m\u001b[0m\u001b[0m\n\u001b[0;32m---> 19\u001b[0;31m     \u001b[0mx\u001b[0m \u001b[0;34m=\u001b[0m \u001b[0mx\u001b[0m\u001b[0;34m.\u001b[0m\u001b[0mview\u001b[0m\u001b[0;34m(\u001b[0m\u001b[0mx\u001b[0m\u001b[0;34m.\u001b[0m\u001b[0msize\u001b[0m\u001b[0;34m(\u001b[0m\u001b[0;36m0\u001b[0m\u001b[0;34m)\u001b[0m\u001b[0;34m,\u001b[0m \u001b[0;36m1\u001b[0m\u001b[0;34m,\u001b[0m \u001b[0;36m28\u001b[0m\u001b[0;34m,\u001b[0m \u001b[0;36m28\u001b[0m\u001b[0;34m)\u001b[0m\u001b[0;34m\u001b[0m\u001b[0;34m\u001b[0m\u001b[0m\n\u001b[0m\u001b[1;32m     20\u001b[0m     \u001b[0;32mreturn\u001b[0m \u001b[0mx\u001b[0m\u001b[0;34m\u001b[0m\u001b[0;34m\u001b[0m\u001b[0m\n\u001b[1;32m     21\u001b[0m \u001b[0;34m\u001b[0m\u001b[0m\n",
            "\u001b[0;31mRuntimeError\u001b[0m: shape '[128, 1, 28, 28]' is invalid for input of size 128"
          ]
        }
      ]
    },
    {
      "cell_type": "code",
      "metadata": {
        "id": "I9aj3AVPbqSl",
        "colab_type": "code",
        "colab": {}
      },
      "source": [
        ""
      ],
      "execution_count": 0,
      "outputs": []
    }
  ]
}